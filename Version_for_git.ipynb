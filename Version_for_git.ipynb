{
 "cells": [
  {
   "cell_type": "markdown",
   "metadata": {},
   "source": [
    "## Imports"
   ]
  },
  {
   "cell_type": "code",
   "execution_count": 1,
   "metadata": {},
   "outputs": [],
   "source": [
    "import asyncio \n",
    "import io\n",
    "import pandas as pd\n",
    "import time\n",
    "import numpy as np\n",
    "import datetime as dt\n",
    "from threading import Thread\n",
    "import os\n",
    "from multiprocessing import Pool"
   ]
  },
  {
   "cell_type": "code",
   "execution_count": 2,
   "metadata": {},
   "outputs": [],
   "source": [
    "pd.set_option('display.max_columns', None)\n",
    "pd.set_option('display.max_rows', 51)\n",
    "pd.options.display.max_colwidth = 500\n",
    "pd.options.display.float_format ='{:.3f}'.format"
   ]
  },
  {
   "cell_type": "code",
   "execution_count": 37,
   "metadata": {},
   "outputs": [],
   "source": [
    "import warnings\n",
    "warnings.filterwarnings('ignore')"
   ]
  },
  {
   "cell_type": "code",
   "execution_count": 3,
   "metadata": {},
   "outputs": [],
   "source": [
    "file_list = os.listdir('Samples3/')"
   ]
  },
  {
   "cell_type": "markdown",
   "metadata": {},
   "source": [
    "## Custom Fuctions"
   ]
  },
  {
   "cell_type": "code",
   "execution_count": 4,
   "metadata": {},
   "outputs": [],
   "source": [
    "def end_of_client(lt):\n",
    "    n = 0\n",
    "    while lt[n] != 0: n = n+1\n",
    "    lt[n] = 1\n",
    "    return lt"
   ]
  },
  {
   "cell_type": "code",
   "execution_count": 5,
   "metadata": {},
   "outputs": [],
   "source": [
    "def data_up():\n",
    "    global CLDF_LIST, OPDF, CLDF, file_list\n",
    "    file_list = os.listdir('Samples3/')\n",
    "    file_list.remove('.ipynb_checkpoints')\n",
    "    CLDF_LIST =  []\n",
    "    for filename in file_list:\n",
    "        df = pd.read_csv(f'Samples3/{filename}').sort_values('Input')\n",
    "        df.columns = ['id', 'start_time', 'task_type', 'wait_ready', 'psi', 'task_time']\n",
    "        df['hard_level'] = np.random.randint(1, 10, df.shape[0])\n",
    "        df['operator_id'] = 0\n",
    "        df['day_part'] = 'lanch'\n",
    "        df['end'] = 0\n",
    "        df['task_type'] = 'w' + df['task_type'].astype(str)\n",
    "        part1 = 30000\n",
    "        part2 = 60000\n",
    "        df.loc[df['start_time'] < part1, 'day_part'] = 'morning'\n",
    "        df.loc[df['start_time'] > part2, 'day_part'] = 'evening'\n",
    "        df['late'] = 0\n",
    "        df['end_time_predict'] = 0\n",
    "        CLDF_LIST.append(df)\n",
    "    CLDF = CLDF_LIST[0]\n",
    "    OPDF = pd.read_csv('OperatorDF.csv', sep = ';')\n",
    "    OPDF['list_of_clien'] = ''\n",
    "    OPDF['end_time_predict'] = 0\n",
    "    OPDF['client_count'] =0\n",
    "    OPDF['hard_sum'] = 0\n",
    "    "
   ]
  },
  {
   "cell_type": "code",
   "execution_count": 6,
   "metadata": {},
   "outputs": [],
   "source": [
    "psi_matrix = pd.read_csv('Psi_Matrix.csv', sep = ';')\n",
    "Operator_time_predict = pd.read_csv('Operators_time_predict.csv', sep = ';')\n",
    "Customer_time_to_wait = pd.read_csv('Customer_time_to_wait.csv', sep = ';')"
   ]
  },
  {
   "cell_type": "code",
   "execution_count": 7,
   "metadata": {},
   "outputs": [],
   "source": [
    "data_up()"
   ]
  },
  {
   "cell_type": "markdown",
   "metadata": {},
   "source": [
    "# Step 1"
   ]
  },
  {
   "cell_type": "code",
   "execution_count": 8,
   "metadata": {},
   "outputs": [],
   "source": [
    "def alg_FIFO(num):\n",
    "    global CLDF_LIST, OP, Operator_time_predict, psi_matrix, start_time \n",
    "    #обновляем данные\n",
    "    data_up()\n",
    "    #выбираем конкретных клиентов\n",
    "    CL = CLDF_LIST[num]\n",
    "    OP = OPDF.copy()\n",
    "    size  = CL.shape[0]\n",
    "    #запускаем счётчик времени\n",
    "    for now_time in range (0, CL.head(OP.shape[0])['start_time'].max(), 1):\n",
    "        #запускаем пробег по всем операторам и проверяем, есть ли среди них освободившихся\n",
    "        for check in OP.id:\n",
    "            if (OP.loc[OP['id'] == check, 'end_time_predict'].item() <= now_time) & ((CL[(CL['end'] == 0) & (CL['start_time'] <= now_time)].shape[0] > 0)):\n",
    "                \n",
    "                #Берём первого клиента\n",
    "                BestID = CL.loc[(CL['end'] == 0) & (CL['start_time'] <= now_time), 'id'].head(1).item()\n",
    "                \n",
    "                #меняем время освободжения первому оператору \n",
    "                OP.loc[OP['id'] == check, 'end_time_predict'] = OP.loc[OP['id'] == check, 'end_time_predict'] +\\\n",
    "                CL.loc[CL['id'] == BestID, 'task_time'].item()\n",
    "\n",
    "                \n",
    "                #меняем время завершение клиенту\n",
    "                CL.loc[CL['id'] == BestID, 'end_time_predict'] = OP.loc[OP['id'] == check, 'end_time_predict'].item()   \n",
    "                \n",
    "                #записываем оператору выбранного клиента\n",
    "                OP.loc[OP['id'] == check, 'list_of_clien'] =  OP.loc[OP['id'] == check, 'list_of_clien'] + ' | ' + str(BestID)\n",
    "                \n",
    "                #помечаем, что клиента взяли\n",
    "                CL.loc[CL['id'] == BestID, 'end'] = 1\n",
    "                \n",
    "                #записываем, какой именно оператор взял клиентв\n",
    "                CL.loc[CL['id'] == BestID, 'operator_id' ] = check\n",
    "                \n",
    "                #записываем клиенту схожесть психотипов\n",
    "                CL.loc[CL['id'] == BestID, 'match'] = psi_matrix.loc[psi_matrix['psi'] == CL.loc[CL['id'] == BestID, 'psi'].item(),\n",
    "                                                                              str(OP.loc[OP['id']==check, 'psi'].item())].item()\n",
    "                \n",
    "                #записываем выбранному оператору количество клиентов и их суммарную сложность\n",
    "                OP.loc[OP['id'] == check, 'client_count'] += 1\n",
    "                OP.loc[OP['id'] == check, 'hard_sum'] += CL.loc[CL['id'] == BestID, 'hard_level'].item()\n",
    "    while CL.end.sum() != size:\n",
    "        #запускаем пробег по всем операторам и проверяем, есть ли среди них освободившихся\n",
    "        for check in OP.id:\n",
    "            if (OP.loc[OP['id'] == check, 'end_time_predict'].item() <= now_time) & ((CL[(CL['end'] == 0) & (CL['start_time'] <= now_time)].shape[0] > 0)):\n",
    "                \n",
    "                #Берём первого клиента\n",
    "                BestID = CL.loc[(CL['end'] == 0) & (CL['start_time'] <= now_time), 'id'].head(1).item()\n",
    "                \n",
    "                #меняем время освободжения первому оператору \n",
    "                OP.loc[OP['id'] == check, 'end_time_predict'] = OP.loc[OP['id'] == check, 'end_time_predict'] +\\\n",
    "                CL.loc[CL['id'] == BestID, 'task_time'].item()\n",
    "\n",
    "                \n",
    "                #меняем время завершение клиенту\n",
    "                CL.loc[CL['id'] == BestID, 'end_time_predict'] = OP.loc[OP['id'] == check, 'end_time_predict'].item()   \n",
    "                \n",
    "                #записываем оператору выбранного клиента\n",
    "                OP.loc[OP['id'] == check, 'list_of_clien'] =  OP.loc[OP['id'] == check, 'list_of_clien'] + ' | ' + str(BestID)\n",
    "                \n",
    "                #помечаем, что клиента взяли\n",
    "                CL.loc[CL['id'] == BestID, 'end'] = 1\n",
    "                \n",
    "                #записываем, какой именно оператор взял клиентв\n",
    "                CL.loc[CL['id'] == BestID, 'operator_id' ] = check\n",
    "                \n",
    "                #записываем клиенту схожесть психотипов\n",
    "                CL.loc[CL['id'] == BestID, 'match'] = psi_matrix.loc[psi_matrix['psi'] == CL.loc[CL['id'] == BestID, 'psi'].item(),\n",
    "                                                                              str(OP.loc[OP['id']==check, 'psi'].item())].item()\n",
    "                \n",
    "                #записываем выбранному оператору количество клиентов и их суммарную сложность\n",
    "                OP.loc[OP['id'] == check, 'client_count'] += 1\n",
    "                OP.loc[OP['id'] == check, 'hard_sum'] += CL.loc[CL['id'] == BestID, 'hard_level'].item()\n",
    "        now_time = max(OP.end_time_predict.min(), CL[CL['end'] == 0]['start_time'].min())\n",
    "    #считаем среднее запаздывание \n",
    "    CL['deadline'] = CL['start_time'] + CL['wait_ready']\n",
    "    for i in CL.id:\n",
    "        CL.loc[CL['id']==i, 'late'] = max(0,  (CL.loc[CL['id'] == i, 'end_time_predict'].item() - CL.loc[CL['id'] == i, 'deadline'].item())   )\n",
    "    f1 = CL[CL['end'] == 1].late.mean()\n",
    "    f2 = CL[CL['end'] == 1].match.mean()\n",
    "    OP['tired'] = OP['hard_sum'] / OP['client_count'] / OP['h_lvl']\n",
    "    f3 = OP.tired.mean()\n",
    "    out= [f1, f2, f3, file_list[num]]\n",
    "    results = pd.DataFrame([out], columns=['f1', 'f2', 'f3', 'file_name'])\n",
    "    print(f'''{file_list[num]} - END | {dt.datetime.now().strftime(\"%H:%M:%S\")} \\n''')\n",
    "    return (results)"
   ]
  },
  {
   "cell_type": "code",
   "execution_count": null,
   "metadata": {
    "tags": []
   },
   "outputs": [],
   "source": [
    "%%time\n",
    "start_time = time.time()\n",
    "if __name__ == '__main__':\n",
    "    with Pool(processes=20) as p:\n",
    "        answer_FIFO = p.map(alg_FIFO, list(np.arange( len(file_list) )))"
   ]
  },
  {
   "cell_type": "code",
   "execution_count": 10,
   "metadata": {
    "tags": []
   },
   "outputs": [],
   "source": [
    "df_FIFO = pd.concat(answer_FIFO)"
   ]
  },
  {
   "cell_type": "code",
   "execution_count": 11,
   "metadata": {},
   "outputs": [],
   "source": [
    "df_FIFO.to_csv('df_FIFO.csv', index  = False)"
   ]
  },
  {
   "cell_type": "markdown",
   "metadata": {},
   "source": [
    "## G creating"
   ]
  },
  {
   "cell_type": "code",
   "execution_count": 17,
   "metadata": {},
   "outputs": [],
   "source": [
    "def get_g1(df):\n",
    "    global Operator_time_predict, FreeOp, now_time\n",
    "    df['g1'] = 0\n",
    "    for i in df.id:\n",
    "        df.loc[df['id'] == i, 'g1'] =\\\n",
    "        df.loc[df['id'] == i, 'wait_ready'].item()\\\n",
    "        - (now_time - df.start_time) \\\n",
    "        - Operator_time_predict.loc[Operator_time_predict['id'] == FreeOp.head(1).id.item(), df.loc[df['id'] == i, 'task_type'].item()].item()\n",
    "    df['g1'] = np.log(df['g1'].astype(int) + 10000)\n",
    "    return df"
   ]
  },
  {
   "cell_type": "code",
   "execution_count": 18,
   "metadata": {},
   "outputs": [],
   "source": [
    "def get_g2(df):\n",
    "    global Operator_time_predict, FreeOp\n",
    "    df['g2'] = 0\n",
    "    df['work_time_predict'] = ''\n",
    "    for i in df.id:\n",
    "        df.loc[df['id'] == i, 'work_time_predict'] =\\\n",
    "        Operator_time_predict.loc[Operator_time_predict['id'] == FreeOp.id.item(), \n",
    "                                  df.loc[df['id'] == i, 'task_type'].item()].item()\n",
    "    df['g2'] = np.log(df['work_time_predict'].astype(int))\n",
    "    return df"
   ]
  },
  {
   "cell_type": "code",
   "execution_count": 19,
   "metadata": {},
   "outputs": [],
   "source": [
    "def get_g3(df, FreeOp):\n",
    "    global psi_matrix\n",
    "    df['g3'] = 0\n",
    "    for i in df.id:\n",
    "        df.loc[df['id'] == i, 'g3'] = psi_matrix.loc[psi_matrix['psi'] == df.loc[df['id'] == i, 'psi'].item(),\n",
    "                f'{FreeOp.psi.item()}'].item()\n",
    "    return df"
   ]
  },
  {
   "cell_type": "code",
   "execution_count": 20,
   "metadata": {},
   "outputs": [],
   "source": [
    "def get_KST(df):\n",
    "    global Operator_time_predict, FreeOp, now_time\n",
    "    df['K_stock'] = 0\n",
    "    for i in df.id:\n",
    "        df.loc[df['id'] == i,'K_stock'] =\\\n",
    "                    (df['start_time'] + df['wait_ready']  - now_time)\\\n",
    "                    / Operator_time_predict.loc[   Operator_time_predict['id'] == FreeOp.head(1)['id'].item(),\n",
    "                                                   df.loc[df['id'] == i, 'task_type'].item()         ].item()\n",
    "    return df"
   ]
  },
  {
   "cell_type": "markdown",
   "metadata": {},
   "source": [
    "# Step 2"
   ]
  },
  {
   "cell_type": "code",
   "execution_count": 21,
   "metadata": {},
   "outputs": [
    {
     "name": "stdout",
     "output_type": "stream",
     "text": [
      "CPU times: user 3 µs, sys: 0 ns, total: 3 µs\n",
      "Wall time: 4.77 µs\n"
     ]
    }
   ],
   "source": [
    "%%time\n",
    "def alg_ABoM(num):\n",
    "    global CLDF_LIST, OP, Operator_time_predict, psi_matrix\n",
    "    #обновляем данные\n",
    "    data_up()\n",
    "    #выбираем пачку клиентов\n",
    "    CL = CLDF_LIST[num]\n",
    "    OP = OPDF.copy()\n",
    "    size  = CL.shape[0]\n",
    "    print(f\"#{num}\", end = '| ')\n",
    "    #запускаем счетчик врмение\n",
    "    for now_time in range (0, CL.head(OP.shape[0]+1)['start_time'].max(), 1):\n",
    "        #запускаем пробег по всем операторам и проверяем, есть ли среди них освободившихся\n",
    "        for check in OP.id:\n",
    "            if (OP.loc[OP['id'] == check, 'end_time_predict'].item() <= now_time) & ((CL[(CL['end'] == 0) & (CL['start_time'] <= now_time)].shape[0] > 0)):\n",
    "    \n",
    "                #выделяем всех свободных оператороов\n",
    "                FreeOp = OP.loc[OP['id'] == check, :]\n",
    "                #выделяем всех ожидающих клиентов\n",
    "                WaitClient = CL[(CL['end'] == 0) & (CL['start_time'] <= now_time)]\n",
    "                #расчитываем подходимость по психотипу\n",
    "                WaitClient = get_g3(WaitClient, FreeOp)\n",
    "                \n",
    "                #ищем клиента с максимальной схожестью\n",
    "                BestID = WaitClient[WaitClient['g3'] == WaitClient['g3'].max()].head(1)['id'].item()\n",
    "    \n",
    "                #меняем время освободжения первому оператору \n",
    "                OP.loc[OP['id'] == check, 'end_time_predict'] = OP.loc[OP['id'] == check, 'end_time_predict'] +\\\n",
    "                Operator_time_predict.loc[ Operator_time_predict['id'] == check,\n",
    "                CL.loc[CL['id'] == BestID, 'task_type'].item()]\n",
    "                \n",
    "                #меняем время особождения клиента\n",
    "                CL.loc[CL['id'] == BestID, 'end_time_predict'] = OP.loc[OP['id'] == check, 'end_time_predict'].item()         \n",
    "                #записываем выбранного клиента в список к оператору\n",
    "                OP.loc[OP['id'] == check, 'list_of_clien'] =  OP.loc[OP['id'] == check, 'list_of_clien'] + ' | ' + str(BestID)\n",
    "                #записываем, что клиент занят\n",
    "                CL.loc[CL['id'] == BestID, 'end'] = 1\n",
    "                CL.loc[CL['id'] == BestID, 'operator_id' ] = check\n",
    "                #записываем величину матча\n",
    "                CL.loc[CL['id'] == BestID, 'match'] = psi_matrix.loc[psi_matrix['psi'] == CL.loc[CL['id'] == BestID, 'psi'].item(),\n",
    "                                                                              str(OP.loc[OP['id']==check, 'psi'].item())].item()\n",
    "                \n",
    "                  #записываем выбранному оператору количество клиентов и их суммарную сложность\n",
    "                OP.loc[OP['id'] == check, 'client_count'] += 1\n",
    "                OP.loc[OP['id'] == check, 'hard_sum'] += CL.loc[CL['id'] == BestID, 'hard_level'].item()\n",
    "                #print(now_time, end =\"|\")\n",
    "    now_time = max( OP[OP['end_time_predict'] > 0].end_time_predict.min(),  CL[CL['end'] == 0]['start_time'].min())\n",
    "    start_time = time.time()\n",
    "    while CL.end.sum() != size:\n",
    "        #запускаем пробег по всем операторам и проверяем, есть ли среди них освободившихся\n",
    "                check = OP.loc[OP['end_time_predict'] <= now_time, 'id'].head(1).item()\n",
    "                #выделяем всех свободных оператороов\n",
    "                FreeOp = OP.loc[OP['id'] == check, :]\n",
    "                #выделяем всех ожидающих клиентов\n",
    "                WaitClient = CL[(CL['end'] == 0) & (CL['start_time'] <= now_time)]\n",
    "                #расчитываем подходимость по психотипу\n",
    "                WaitClient = get_g3(WaitClient, FreeOp)\n",
    "                \n",
    "                #ищем клиента с максимальной схожестью\n",
    "                BestID = WaitClient[WaitClient['g3'] == WaitClient['g3'].max()].head(1)['id'].item()\n",
    "    \n",
    "                #меняем время освободжения первому оператору \n",
    "                OP.loc[OP['id'] == check, 'end_time_predict'] = OP.loc[OP['id'] == check, 'end_time_predict'] +\\\n",
    "                Operator_time_predict.loc[ Operator_time_predict['id'] == check,\n",
    "                CL.loc[CL['id'] == BestID, 'task_type'].item()]\n",
    "                \n",
    "                #меняем время особождения клиента\n",
    "                CL.loc[CL['id'] == BestID, 'end_time_predict'] = OP.loc[OP['id'] == check, 'end_time_predict'].item()         \n",
    "                #записываем выбранного клиента в список к оператору\n",
    "                OP.loc[OP['id'] == check, 'list_of_clien'] =  OP.loc[OP['id'] == check, 'list_of_clien'] + ' | ' + str(BestID)\n",
    "                #записываем, что клиент занят\n",
    "                CL.loc[CL['id'] == BestID, 'end'] = 1\n",
    "                CL.loc[CL['id'] == BestID, 'operator_id' ] = check\n",
    "                #записываем величину матча\n",
    "                CL.loc[CL['id'] == BestID, 'match'] = psi_matrix.loc[psi_matrix['psi'] == CL.loc[CL['id'] == BestID, 'psi'].item(),\n",
    "                                                                              str(OP.loc[OP['id']==check, 'psi'].item())].item()\n",
    "                \n",
    "                  #записываем выбранному оператору количество клиентов и их суммарную сложность\n",
    "                OP.loc[OP['id'] == check, 'client_count'] += 1\n",
    "                OP.loc[OP['id'] == check, 'hard_sum'] += CL.loc[CL['id'] == BestID, 'hard_level'].item()\n",
    "                now_time = max(OP.end_time_predict.min(), CL[CL['end'] == 0]['start_time'].min())\n",
    "    #считаем среднее запаздывание\n",
    "    CL['deadline'] = CL['start_time'] + CL['wait_ready']\n",
    "    for i in CL.id:\n",
    "        CL.loc[CL['id']==i, 'late'] = max(0,  (CL.loc[CL['id'] == i, 'end_time_predict'].item() - CL.loc[CL['id'] == i, 'deadline'].item())   )\n",
    "    OP['tired'] = OP['hard_sum'] / OP['client_count'] / OP['h_lvl']\n",
    "    f1 = CL[CL['end'] == 1].late.mean()\n",
    "    f2 = CL[CL['end'] == 1].match.mean()\n",
    "    f3 = OP.tired.mean()\n",
    "    out= [f1, f2, f3, file_list[num]]\n",
    "    results = pd.DataFrame([out], columns=['f1', 'f2', 'f3', 'file_name'])\n",
    "    return (results)"
   ]
  },
  {
   "cell_type": "code",
   "execution_count": 22,
   "metadata": {
    "tags": []
   },
   "outputs": [
    {
     "name": "stdout",
     "output_type": "stream",
     "text": [
      "#1#0| | "
     ]
    },
    {
     "name": "stderr",
     "output_type": "stream",
     "text": [
      "/opt/conda/lib/python3.7/site-packages/ipykernel_launcher.py:3: SettingWithCopyWarning: \n",
      "A value is trying to be set on a copy of a slice from a DataFrame.\n",
      "Try using .loc[row_indexer,col_indexer] = value instead\n",
      "\n",
      "See the caveats in the documentation: https://pandas.pydata.org/pandas-docs/stable/user_guide/indexing.html#returning-a-view-versus-a-copy\n",
      "  This is separate from the ipykernel package so we can avoid doing imports until\n",
      "/opt/conda/lib/python3.7/site-packages/pandas/core/indexing.py:1817: SettingWithCopyWarning: \n",
      "A value is trying to be set on a copy of a slice from a DataFrame.\n",
      "Try using .loc[row_indexer,col_indexer] = value instead\n",
      "\n",
      "See the caveats in the documentation: https://pandas.pydata.org/pandas-docs/stable/user_guide/indexing.html#returning-a-view-versus-a-copy\n",
      "  self._setitem_single_column(loc, value, pi)\n",
      "/opt/conda/lib/python3.7/site-packages/ipykernel_launcher.py:3: SettingWithCopyWarning: \n",
      "A value is trying to be set on a copy of a slice from a DataFrame.\n",
      "Try using .loc[row_indexer,col_indexer] = value instead\n",
      "\n",
      "See the caveats in the documentation: https://pandas.pydata.org/pandas-docs/stable/user_guide/indexing.html#returning-a-view-versus-a-copy\n",
      "  This is separate from the ipykernel package so we can avoid doing imports until\n",
      "/opt/conda/lib/python3.7/site-packages/pandas/core/indexing.py:1817: SettingWithCopyWarning: \n",
      "A value is trying to be set on a copy of a slice from a DataFrame.\n",
      "Try using .loc[row_indexer,col_indexer] = value instead\n",
      "\n",
      "See the caveats in the documentation: https://pandas.pydata.org/pandas-docs/stable/user_guide/indexing.html#returning-a-view-versus-a-copy\n",
      "  self._setitem_single_column(loc, value, pi)\n"
     ]
    },
    {
     "name": "stdout",
     "output_type": "stream",
     "text": [
      "CPU times: user 38.4 ms, sys: 121 ms, total: 160 ms\n",
      "Wall time: 6.77 s\n"
     ]
    }
   ],
   "source": [
    "%%time\n",
    "start_time = time.time()\n",
    "\n",
    "end = list(np.arange(640))\n",
    "if __name__ == '__main__':\n",
    "    with Pool(processes = 20) as p:\n",
    "        anwer_AMoB = p.map(alg_ABoM,  list(np.arange( len(file_list) )) )"
   ]
  },
  {
   "cell_type": "code",
   "execution_count": null,
   "metadata": {},
   "outputs": [],
   "source": [
    "file"
   ]
  },
  {
   "cell_type": "code",
   "execution_count": 23,
   "metadata": {},
   "outputs": [],
   "source": [
    "df_ABoM = pd.concat(anwer_AMoB)"
   ]
  },
  {
   "cell_type": "code",
   "execution_count": 26,
   "metadata": {},
   "outputs": [],
   "source": [
    "df_ABoM.to_csv('df_ABoM.csv', index  = False)"
   ]
  },
  {
   "cell_type": "markdown",
   "metadata": {},
   "source": [
    "# Step 3"
   ]
  },
  {
   "cell_type": "code",
   "execution_count": null,
   "metadata": {},
   "outputs": [],
   "source": []
  },
  {
   "cell_type": "code",
   "execution_count": 31,
   "metadata": {},
   "outputs": [],
   "source": [
    "results = pd.DataFrame(np.array([[0, 0, 0, 0, 0, 0, 0, '']]),\n",
    "                   columns=['n','L1', 'L2', 'L3', 'f1', 'f2', 'f3', 'file_name'])\n",
    "now_time = 0"
   ]
  },
  {
   "cell_type": "code",
   "execution_count": 34,
   "metadata": {
    "tags": []
   },
   "outputs": [],
   "source": [
    "def alg_DCSF(num):\n",
    "    global CLDF_LIST, OPDF, WaitClient, results, FreeOp\n",
    "    print(f'''{file_list[num]} - START | {dt.datetime.now().strftime(\"%H:%M:%S\")} \\n ''')\n",
    "    data_up()\n",
    "    n = 0\n",
    "    end = 1\n",
    "    for l1 in np.arange(0, end, 0.1):\n",
    "        for l2 in np.arange(0, end - l1, 0.1):\n",
    "            l3 = (-(1 - l1 - l2))\n",
    "            l1 = l1\n",
    "            l2 = l2\n",
    "            n += 1\n",
    "            #print(f'{n}| l1 ={l1:.2f}, l2 = {l2:.2f}, l3 = {l3:.2f}, sum = {abs(l1) + abs(l2) + abs(l3)}', end = \" ----> \")\n",
    "            CL = CLDF_LIST[num].copy()\n",
    "            OP = OPDF.copy()\n",
    "            #запускаем счётчик по времени\n",
    "            for now_time in range (CL.start_time.min(), CL.head(OP.shape[0] + 2)['start_time'].max(), 1):\n",
    "                    for check in OP.id:\n",
    "                        if (OP.loc[OP['id'] == check, 'end_time_predict'].item() <= now_time) &\\\n",
    "                            ((CL[(CL['end'] == 0)  & (CL['start_time'] <= now_time)].shape[0] > 0)):\n",
    "                                    FreeOp = OP.loc[OP['id'] == check, :]\n",
    "                                    WaitClient = CL[(CL['end'] == 0) & (CL['start_time'] <= now_time)]\n",
    "                                    WaitClient = get_g1(WaitClient)\n",
    "                                    WaitClient = get_g2(WaitClient)\n",
    "                                    WaitClient = get_g3(WaitClient, FreeOp)\n",
    "                                    WaitClient = get_KST(WaitClient)\n",
    "                                    WaitClient['g_sum'] = WaitClient['K_stock']*(l1*WaitClient['g1'] + \n",
    "                                                                                 l2*WaitClient['g2'] + \n",
    "                                                                                 l3*WaitClient['g3'])\n",
    "                                    #Ищем клиента с самым маленьким весом\n",
    "                                    BestID = WaitClient[WaitClient['g_sum'] == WaitClient['g_sum'].min()].head(1)['id'].item()\n",
    "                                    #<--- нашли того клиента, которого надо назначить освободившемуся клиенту\n",
    "                                    \n",
    "                                    #меняем время освобождения у подходящего свободного оператора\n",
    "                                        #ВОТ ТУТ НАДО БУДЕТ ДОПОЛНИТЬ, ЧТО МЫ ПРОГНОЗИРУЕМ ПО ПРИМЕРНОМУ ВРЕМЕНИ\n",
    "                                        #НО ВСТАВЛЯЕМ СРАЗУ РЕАЛЬНОЕ\n",
    "                                    OP.loc[OP['id'] == check, 'end_time_predict'] = \\\n",
    "                                    OP.loc[OP['id'] == check, 'end_time_predict'] +\\\n",
    "                                    CL.loc[CL['id'] == BestID, 'task_time'].item()\n",
    "                                    #WaitClient[WaitClient['id'] == BestID].head(1)['work_time_predict'].item()\n",
    "                                      \n",
    "                                    #ставим клиенту время окончания разговора\n",
    "                                    CL.loc[CL['id'] == BestID, 'end_time_predict'] = OP.loc[OP['id'] == check, 'end_time_predict'].item()                        \n",
    "                                    \n",
    "                                    CL.loc[CL['id'] == BestID, 'match'] = psi_matrix.loc[psi_matrix['psi'] == CL.loc[CL['id'] == BestID, 'psi'].item(),\n",
    "                                                                          f'''{FreeOp.head(1)['psi'].item()}'''].item()\n",
    "                                    #записываем свободному оператору подходящего клиента\n",
    "                                    OP.loc[OP['id'] == check, 'list_of_clien'] =\\\n",
    "                                    OP.loc[OP['id'] == check, 'list_of_clien'] + '|' + str(BestID)\n",
    "                                \n",
    "                                    #записываем выбранному оператору количество клиентов и их суммарную сложность\n",
    "                                    OP.loc[OP['id'] == check, 'client_count'] += 1\n",
    "                                    OP.loc[OP['id'] == check, 'hard_sum'] += CL.loc[CL['id'] == BestID, 'hard_level'].item()\n",
    "                \n",
    "                                    #ставим выбранному клиенту статус НЕ СВОБОДЕН\n",
    "                                    CL.loc[CL['id'] == BestID, 'end'] = 1\n",
    "                                \n",
    "                                    #записываем этому клиенту ID оператора, котрые его обработал\n",
    "                                    CL.loc[CL['id'] == BestID, 'operator_id' ] = check\n",
    "            now_time = max( OP[OP['end_time_predict'] > 0].end_time_predict.min(),  CL[CL['end'] == 0]['start_time'].min())\n",
    "            size  = CL.shape[0]\n",
    "            while CL.end.sum() != size:\n",
    "                                    check = OP.loc[OP['end_time_predict'] <= now_time, 'id'].head(1).item()\n",
    "                                    FreeOp = OP.loc[OP['id'] == check, :]\n",
    "                                    WaitClient = CL[(CL['end'] == 0) & (CL['start_time'] <= now_time)]\n",
    "                                    WaitClient = get_g1(WaitClient)\n",
    "                                    WaitClient = get_g2(WaitClient)\n",
    "                                    WaitClient = get_g3(WaitClient, FreeOp)\n",
    "                                    WaitClient = get_KST(WaitClient)\n",
    "                                    WaitClient['g_sum'] = WaitClient['K_stock']*(l1*WaitClient['g1'] + \n",
    "                                                                                 l2*WaitClient['g2'] + \n",
    "                                                                                 l3*WaitClient['g3'])\n",
    "                                    BestID = WaitClient[WaitClient['g_sum'] == WaitClient['g_sum'].min()].head(1)['id'].item()\n",
    "                                    \n",
    "                                        #ВОТ ТУТ НАДО БУДЕТ ДОПОЛНИТЬ, ЧТО МЫ ПРОГНОЗИРУЕМ ПО ПРИМЕРНОМУ ВРЕМЕНИ\n",
    "                                        #НО ВСТАВЛЯЕМ СРАЗУ РЕАЛЬНОЕ\n",
    "                                    OP.loc[OP['id'] == check, 'end_time_predict'] = \\\n",
    "                                    OP.loc[OP['id'] == check, 'end_time_predict'] +\\\n",
    "                                    CL.loc[CL['id'] == BestID, 'task_time'].item()\n",
    "                                    #WaitClient[WaitClient['id'] == BestID].head(1)['work_time_predict'].item()\n",
    "                                      \n",
    "                                    #ставим клиенту время окончания разговора\n",
    "                                    CL.loc[CL['id'] == BestID, 'end_time_predict'] = OP.loc[OP['id'] == check, 'end_time_predict'].item()                        \n",
    "                                    \n",
    "                                    CL.loc[CL['id'] == BestID, 'match'] = psi_matrix.loc[psi_matrix['psi'] == CL.loc[CL['id'] == BestID, 'psi'].item(),\n",
    "                                                                          f'''{FreeOp.head(1)['psi'].item()}'''].item()\n",
    "                                    #записываем свободному оператору подходящего клиента\n",
    "                                    OP.loc[OP['id'] == check, 'list_of_clien'] =\\\n",
    "                                    OP.loc[OP['id'] == check, 'list_of_clien'] + '|' + str(BestID)\n",
    "                                    #записываем выбранному оператору количество клиентов и их суммарную сложность\n",
    "                                    OP.loc[OP['id'] == check, 'client_count'] += 1\n",
    "                                    OP.loc[OP['id'] == check, 'hard_sum'] += CL.loc[CL['id'] == BestID, 'hard_level'].item()\n",
    "                                    #ставим выбранному клиенту статус НЕ СВОБОДЕН\n",
    "                                    CL.loc[CL['id'] == BestID, 'end'] = 1\n",
    "                                    #записываем этому клиенту ID оператора, котрые его обработал\n",
    "                                    CL.loc[CL['id'] == BestID, 'operator_id' ] = check\n",
    "                                    #print(f\"now_time = {now_time}\", end = \"|\")\n",
    "                                    now_time = max(OP.end_time_predict.min(), CL[CL['end'] == 0]['start_time'].min())\n",
    "            CL['deadline'] = CL['start_time'] + CL['wait_ready']\n",
    "            for i in CL.id:\n",
    "                CL.loc[CL['id']==i, 'late'] = max(0,  (CL.loc[CL['id'] == i, 'end_time_predict'].item() \\\n",
    "                                                                   - CL.loc[CL['id'] == i, 'deadline'].item())  )\n",
    "            f1 = CL[CL['end'] == 1].late.mean()\n",
    "            f2 = CL[CL['end'] == 1].match.mean()\n",
    "            OP['tired'] = OP['hard_sum'] / OP['client_count'] / OP['h_lvl']\n",
    "            f3 = OP.tired.mean()\n",
    "            out= [n, l1, l2, l3, f1, f2, f3, file_list[num]]\n",
    "            print(f'''Last uppdate = {dt.datetime.now().strftime(\"%H:%M:%S\")}''', end = '\\r')\n",
    "            #print(f'f1 ={f1:.2f}, f2 = {f2:.2f}, l3 = {f3:.2f}', end = \"|\")\n",
    "            results = results.append( pd.DataFrame([[n, l1, l2, l3, f1, f2, f3, file_list[num]]], columns=['n','L1', 'L2', 'L3', 'f1', 'f2', 'f3', 'file_name']) )\n",
    "    print(f'''{file_list[num]} - END | {dt.datetime.now().strftime(\"%H:%M:%S\")} \\n''')\n",
    "    return results"
   ]
  },
  {
   "cell_type": "code",
   "execution_count": 38,
   "metadata": {
    "tags": []
   },
   "outputs": [
    {
     "name": "stdout",
     "output_type": "stream",
     "text": [
      "Start time = 21:09:31\n",
      "sample0_samplesf (66).csv - START | 21:09:32 \n",
      " \n",
      "sample0_samplesf (83).csv - START | 21:09:32 \n",
      " \n",
      "sample0_samplesf (83).csv - END | 21:18:04 \n",
      "\n",
      "sample0_samplesf (66).csv - END | 21:18:23 \n",
      "\n",
      "CPU times: user 729 ms, sys: 548 ms, total: 1.28 s\n",
      "Wall time: 8min 51s\n"
     ]
    }
   ],
   "source": [
    "%%time\n",
    "results = pd.DataFrame(np.array([[0, 0, 0, 0, 0, 0, 0, '']]),\n",
    "                   columns=['n','L1', 'L2', 'L3', 'f1', 'f2', 'f3', 'file_name'])\n",
    "print(f'''Start time = {dt.datetime.now().strftime(\"%H:%M:%S\")}''')\n",
    "\n",
    "if __name__ == '__main__':\n",
    "    with Pool(processes = 20) as p:\n",
    "        answer_DCFS = p.map(alg_DCSF, list(np.arange( len(file_list) ))  )"
   ]
  },
  {
   "cell_type": "code",
   "execution_count": 39,
   "metadata": {},
   "outputs": [
    {
     "name": "stdout",
     "output_type": "stream",
     "text": [
      "CPU times: user 4.09 ms, sys: 0 ns, total: 4.09 ms\n",
      "Wall time: 3.23 ms\n"
     ]
    }
   ],
   "source": [
    "%%time\n",
    "df_DCSF = pd.concat(answer_DCFS)"
   ]
  },
  {
   "cell_type": "code",
   "execution_count": 40,
   "metadata": {},
   "outputs": [],
   "source": [
    "df_DCSF.to_csv('df_DCSF.csv')"
   ]
  },
  {
   "cell_type": "code",
   "execution_count": 41,
   "metadata": {},
   "outputs": [],
   "source": [
    "p.close()"
   ]
  }
 ],
 "metadata": {
  "kernelspec": {
   "display_name": "Python 3 (ipykernel)",
   "language": "python",
   "name": "python3"
  },
  "language_info": {
   "codemirror_mode": {
    "name": "ipython",
    "version": 3
   },
   "file_extension": ".py",
   "mimetype": "text/x-python",
   "name": "python",
   "nbconvert_exporter": "python",
   "pygments_lexer": "ipython3",
   "version": "3.7.9"
  },
  "vscode": {
   "interpreter": {
    "hash": "960675fd5abc2214149bd71e5fa3893037fa1588d7e805ba4289ae2d7a3a4dd7"
   }
  }
 },
 "nbformat": 4,
 "nbformat_minor": 4
}
